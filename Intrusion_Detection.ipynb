{
  "nbformat": 4,
  "nbformat_minor": 0,
  "metadata": {
    "colab": {
      "name": "Intrusion-Detection.ipynb",
      "provenance": [],
      "collapsed_sections": [],
      "authorship_tag": "ABX9TyPrPdx+/SluPmXWcASfj7xM",
      "include_colab_link": true
    },
    "kernelspec": {
      "name": "python3",
      "display_name": "Python 3"
    },
    "language_info": {
      "name": "python"
    }
  },
  "cells": [
    {
      "cell_type": "markdown",
      "metadata": {
        "id": "view-in-github",
        "colab_type": "text"
      },
      "source": [
        "<a href=\"https://colab.research.google.com/github/sauravrox/intrusion-detect/blob/main/Intrusion_Detection.ipynb\" target=\"_parent\"><img src=\"https://colab.research.google.com/assets/colab-badge.svg\" alt=\"Open In Colab\"/></a>"
      ]
    },
    {
      "cell_type": "code",
      "execution_count": 1,
      "metadata": {
        "id": "DFgq7VuHBOhC"
      },
      "outputs": [],
      "source": [
        "import numpy as np\n",
        "import pandas as pd\n",
        "import matplotlib.pyplot as plt\n",
        "from sklearn.metrics import confusion_matrix\n",
        "from sklearn.metrics import accuracy_score\n",
        "from sklearn.preprocessing import LabelEncoder\n",
        "from sklearn import preprocessing"
      ]
    },
    {
      "cell_type": "code",
      "source": [
        "from sklearn import model_selection\n",
        "from sklearn.tree import DecisionTreeClassifier\n",
        "from sklearn import metrics\n",
        "import seaborn as sn\n",
        "\n",
        "from sklearn.metrics import classification_report"
      ],
      "metadata": {
        "id": "YiO6bnspBVmB"
      },
      "execution_count": 3,
      "outputs": []
    },
    {
      "cell_type": "code",
      "source": [
        "plt.rcParams['figure.figsize'] = (20.0, 10.0)\n",
        "plt.show()"
      ],
      "metadata": {
        "id": "8fnh2lC1BZ9V"
      },
      "execution_count": 4,
      "outputs": []
    },
    {
      "cell_type": "code",
      "source": [
        "from google.colab import drive\n",
        "drive.mount('/content/drive')"
      ],
      "metadata": {
        "colab": {
          "base_uri": "https://localhost:8080/"
        },
        "id": "fanvABDyDbZ2",
        "outputId": "20d23aa9-4110-44bc-8ffe-b4400eee9781"
      },
      "execution_count": 6,
      "outputs": [
        {
          "output_type": "stream",
          "name": "stdout",
          "text": [
            "Mounted at /content/drive\n"
          ]
        }
      ]
    },
    {
      "cell_type": "code",
      "source": [
        "#Reading columns\n",
        "cols = list(pd.read_csv(\"/content/drive/MyDrive/data/data3.csv\", nrows =1))"
      ],
      "metadata": {
        "id": "VGxaduc_Bex5"
      },
      "execution_count": 7,
      "outputs": []
    },
    {
      "cell_type": "code",
      "source": [
        "# Remove marker column as it has string values which can not be standardised\n",
        "data = pd.read_csv('/content/drive/MyDrive/data/data3.csv', usecols =[i for i in cols if i not in('marker')])\n",
        "data = data.dropna(axis=1, how='all')"
      ],
      "metadata": {
        "id": "YjwbWnm_BjL5"
      },
      "execution_count": 12,
      "outputs": []
    },
    {
      "cell_type": "code",
      "source": [
        "data.replace([np.inf, -np.inf], np.nan, inplace=True)\n",
        "feature_cols = data"
      ],
      "metadata": {
        "id": "Ito5uYsCBoC0"
      },
      "execution_count": 13,
      "outputs": []
    },
    {
      "cell_type": "code",
      "source": [
        "original_data = pd.read_csv('/content/drive/MyDrive/data/data3.csv')\n",
        "original_data = original_data.dropna(axis=1, how='all')"
      ],
      "metadata": {
        "id": "h12LjbjZBq2Y"
      },
      "execution_count": 14,
      "outputs": []
    },
    {
      "cell_type": "code",
      "source": [
        "cor_matrix = original_data.corr().abs()"
      ],
      "metadata": {
        "id": "xeGr_k-yBwVm"
      },
      "execution_count": 15,
      "outputs": []
    },
    {
      "cell_type": "code",
      "source": [
        "# Encoding 'marker' to 0 & 1\n",
        "original_data['marker'] = LabelEncoder().fit_transform(original_data['marker'])"
      ],
      "metadata": {
        "id": "UDGnL464BzFi"
      },
      "execution_count": 16,
      "outputs": []
    },
    {
      "cell_type": "code",
      "source": [
        "# Standardising all the columns except marker\n",
        "x = feature_cols.values.astype(np.float)"
      ],
      "metadata": {
        "colab": {
          "base_uri": "https://localhost:8080/"
        },
        "id": "kg98tbICB15O",
        "outputId": "84f30a0a-5ccc-4f94-ad6a-e5ba5c579649"
      },
      "execution_count": 17,
      "outputs": [
        {
          "output_type": "stream",
          "name": "stderr",
          "text": [
            "/usr/local/lib/python3.7/dist-packages/ipykernel_launcher.py:2: DeprecationWarning: `np.float` is a deprecated alias for the builtin `float`. To silence this warning, use `float` by itself. Doing this will not modify any behavior and is safe. If you specifically wanted the numpy scalar type, use `np.float64` here.\n",
            "Deprecated in NumPy 1.20; for more details and guidance: https://numpy.org/devdocs/release/1.20.0-notes.html#deprecations\n",
            "  \n"
          ]
        }
      ]
    },
    {
      "cell_type": "code",
      "source": [
        "min_max_scaler = preprocessing.MinMaxScaler()"
      ],
      "metadata": {
        "id": "z8YbpkbnB4qT"
      },
      "execution_count": 18,
      "outputs": []
    },
    {
      "cell_type": "code",
      "source": [
        "x_scaled = min_max_scaler.fit_transform(x)\n",
        "df = pd.DataFrame(x_scaled)"
      ],
      "metadata": {
        "id": "LhDhbA4bB7c3"
      },
      "execution_count": 19,
      "outputs": []
    },
    {
      "cell_type": "code",
      "source": [
        "X = df # Features\n",
        "y = original_data.marker  # Target variable"
      ],
      "metadata": {
        "id": "RQhpvUysB_Q1"
      },
      "execution_count": 21,
      "outputs": []
    },
    {
      "cell_type": "code",
      "source": [
        "X_train, X_test, y_train, y_test = model_selection.train_test_split(X, y, test_size=0.30, random_state=100)"
      ],
      "metadata": {
        "id": "3Srikf1yCB77"
      },
      "execution_count": 22,
      "outputs": []
    },
    {
      "cell_type": "code",
      "source": [
        "clf = DecisionTreeClassifier(criterion=\"gini\", max_depth=3)"
      ],
      "metadata": {
        "id": "Wo3UgZ9MCEs6"
      },
      "execution_count": 23,
      "outputs": []
    },
    {
      "cell_type": "code",
      "source": [
        "clf = clf.fit(X_train, y_train)"
      ],
      "metadata": {
        "id": "DMrFsM4HCHBr"
      },
      "execution_count": 24,
      "outputs": []
    },
    {
      "cell_type": "code",
      "source": [
        "y_pred = clf.predict(X_test)"
      ],
      "metadata": {
        "id": "lSq0556-CJSD"
      },
      "execution_count": 25,
      "outputs": []
    },
    {
      "cell_type": "code",
      "source": [
        "actual = y_test\n",
        "# predicted values\n",
        "predicted = y_pred"
      ],
      "metadata": {
        "id": "WbBUXWRbCLtW"
      },
      "execution_count": 26,
      "outputs": []
    },
    {
      "cell_type": "code",
      "source": [
        "# confusion matrix\n",
        "matrix = confusion_matrix(actual,predicted, labels=[1,0])\n",
        "print('Confusion matrix for Decision Tree : \\n',matrix)"
      ],
      "metadata": {
        "colab": {
          "base_uri": "https://localhost:8080/"
        },
        "id": "3-1JhmotCQPc",
        "outputId": "5c2cadfb-137b-4059-f6ce-5fd5b9e357b8"
      },
      "execution_count": 27,
      "outputs": [
        {
          "output_type": "stream",
          "name": "stdout",
          "text": [
            "Confusion matrix for Decision Tree : \n",
            " [[255 220]\n",
            " [226 924]]\n"
          ]
        }
      ]
    },
    {
      "cell_type": "code",
      "source": [
        "matrix = classification_report(actual,predicted,labels=[1,0])\n",
        "print('Classification report for Decision Tree: \\n',matrix)"
      ],
      "metadata": {
        "colab": {
          "base_uri": "https://localhost:8080/"
        },
        "id": "6pQBXruSCThH",
        "outputId": "d9135ee7-6a67-428f-acbd-5b512d5af07a"
      },
      "execution_count": 28,
      "outputs": [
        {
          "output_type": "stream",
          "name": "stdout",
          "text": [
            "Classification report for Decision Tree: \n",
            "               precision    recall  f1-score   support\n",
            "\n",
            "           1       0.53      0.54      0.53       475\n",
            "           0       0.81      0.80      0.81      1150\n",
            "\n",
            "    accuracy                           0.73      1625\n",
            "   macro avg       0.67      0.67      0.67      1625\n",
            "weighted avg       0.73      0.73      0.73      1625\n",
            "\n"
          ]
        }
      ]
    },
    {
      "cell_type": "code",
      "source": [
        "print(\"Decision Tree Accuracy: \", metrics.accuracy_score(y_test, y_pred)*100)"
      ],
      "metadata": {
        "colab": {
          "base_uri": "https://localhost:8080/"
        },
        "id": "uhhoHKa5CXzB",
        "outputId": "93f125b1-77e7-4775-86eb-e7e9a098b882"
      },
      "execution_count": 29,
      "outputs": [
        {
          "output_type": "stream",
          "name": "stdout",
          "text": [
            "Decision Tree Accuracy:  72.55384615384615\n"
          ]
        }
      ]
    },
    {
      "cell_type": "code",
      "source": [
        "from numpy import loadtxt\n",
        "from xgboost import XGBClassifier\n",
        "from sklearn.model_selection import train_test_split\n",
        "from sklearn.metrics import accuracy_score"
      ],
      "metadata": {
        "id": "FeWns7vlCa_5"
      },
      "execution_count": 44,
      "outputs": []
    },
    {
      "cell_type": "code",
      "source": [
        "# load data\n",
        "dataset = loadtxt('/content/drive/MyDrive/data/xgboostComparisonModule.csv', delimiter=\",\")"
      ],
      "metadata": {
        "id": "g_4eawZTCfKg"
      },
      "execution_count": 32,
      "outputs": []
    },
    {
      "cell_type": "code",
      "source": [
        "# split data into X and y\n",
        "X = dataset[:,0:111]\n",
        "Y = dataset[:,111]"
      ],
      "metadata": {
        "id": "hXHD8SD5Ch_b"
      },
      "execution_count": 33,
      "outputs": []
    },
    {
      "cell_type": "code",
      "source": [
        "# split data into train and test sets\n",
        "seed = 7\n",
        "test_size = 0.33"
      ],
      "metadata": {
        "id": "il-p2Nv5Ck2y"
      },
      "execution_count": 34,
      "outputs": []
    },
    {
      "cell_type": "code",
      "source": [
        "X_train, X_test, y_train, y_test = train_test_split(X, Y, test_size=test_size, random_state=seed)"
      ],
      "metadata": {
        "id": "NuTYrC9UCnsV"
      },
      "execution_count": 35,
      "outputs": []
    },
    {
      "cell_type": "code",
      "source": [
        "# fit model no training data\n",
        "model = XGBClassifier()\n",
        "model.fit(X_train, y_train)"
      ],
      "metadata": {
        "colab": {
          "base_uri": "https://localhost:8080/"
        },
        "id": "Y8_msYkDCqHh",
        "outputId": "d5884ea7-15bc-41f2-c8ff-90ef0d6c6378"
      },
      "execution_count": 36,
      "outputs": [
        {
          "output_type": "execute_result",
          "data": {
            "text/plain": [
              "XGBClassifier()"
            ]
          },
          "metadata": {},
          "execution_count": 36
        }
      ]
    },
    {
      "cell_type": "code",
      "source": [
        "# make predictions for test data\n",
        "y_pred = model.predict(X_test)"
      ],
      "metadata": {
        "id": "pqk26YxNCspm"
      },
      "execution_count": 37,
      "outputs": []
    },
    {
      "cell_type": "code",
      "source": [
        "predictions = [round(value) for value in y_pred]"
      ],
      "metadata": {
        "id": "RVuxRKL_CxCb"
      },
      "execution_count": 38,
      "outputs": []
    },
    {
      "cell_type": "code",
      "source": [
        "# evaluate predictions\n",
        "accuracy = accuracy_score(y_test, predictions)"
      ],
      "metadata": {
        "id": "jMruRWz4CxkG"
      },
      "execution_count": 39,
      "outputs": []
    },
    {
      "cell_type": "code",
      "source": [
        "actual = y_test\n",
        "# predicted values\n",
        "predicted = y_pred"
      ],
      "metadata": {
        "id": "7XDyPsLUC0zv"
      },
      "execution_count": 40,
      "outputs": []
    },
    {
      "cell_type": "code",
      "source": [
        "# confusion matrix\n",
        "matrix = confusion_matrix(actual,predicted, labels=[1,0])\n",
        "print('Confusion matrix for XG Boost : \\n',matrix)"
      ],
      "metadata": {
        "colab": {
          "base_uri": "https://localhost:8080/"
        },
        "id": "RFGYslvoC3VT",
        "outputId": "da1050cc-3792-4b09-bb92-4f8e6df58389"
      },
      "execution_count": 41,
      "outputs": [
        {
          "output_type": "stream",
          "name": "stdout",
          "text": [
            "Confusion matrix for XG Boost : \n",
            " [[1129    4]\n",
            " [  52  121]]\n"
          ]
        }
      ]
    },
    {
      "cell_type": "code",
      "source": [
        "matrix = classification_report(actual,predicted,labels=[1,0])\n",
        "print('Classification report for XG Boost: \\n',matrix)"
      ],
      "metadata": {
        "colab": {
          "base_uri": "https://localhost:8080/"
        },
        "id": "WUrhXQpmC5tQ",
        "outputId": "76700f84-a59c-436c-c633-99a3203c998d"
      },
      "execution_count": 42,
      "outputs": [
        {
          "output_type": "stream",
          "name": "stdout",
          "text": [
            "Classification report for XG Boost: \n",
            "               precision    recall  f1-score   support\n",
            "\n",
            "           1       0.96      1.00      0.98      1133\n",
            "           0       0.97      0.70      0.81       173\n",
            "\n",
            "    accuracy                           0.96      1306\n",
            "   macro avg       0.96      0.85      0.89      1306\n",
            "weighted avg       0.96      0.96      0.95      1306\n",
            "\n"
          ]
        }
      ]
    },
    {
      "cell_type": "code",
      "source": [
        "print(\"XG Boost Accuracy: %.2f%%\" % (accuracy * 100.0))"
      ],
      "metadata": {
        "colab": {
          "base_uri": "https://localhost:8080/"
        },
        "id": "cyBTy6-fC8WB",
        "outputId": "76ed5642-5b20-43a7-8e2b-4045cf8a1c86"
      },
      "execution_count": 43,
      "outputs": [
        {
          "output_type": "stream",
          "name": "stdout",
          "text": [
            "XG Boost Accuracy: 95.71%\n"
          ]
        }
      ]
    }
  ]
}